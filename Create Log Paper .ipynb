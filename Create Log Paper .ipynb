{
 "cells": [
  {
   "cell_type": "code",
   "execution_count": null,
   "metadata": {
    "collapsed": false
   },
   "outputs": [],
   "source": [
    "#Create log paper to print \n",
    "import numpy as np\n",
    "import matplotlib.pyplot as plt\n",
    "\n",
    "\n",
    "x=[50,100,500]\n",
    "y=[9000,10505,13982]\n",
    "\n",
    "                                                            \n",
    "# Log Paper\n",
    "plt.scatter(x, y, alpha=0)\n",
    "plt.xscale('log')\n",
    "#plt.title('log')\n",
    "plt.grid(b=True, which='major', color='black',  linestyle='-', linewidth=1)\n",
    "plt.grid(b=True, which='minor', color='grey',alpha=0.3, linestyle='--')\n",
    "cur_axes = plt.gca()\n",
    "plt.xlim([1,10000])\n",
    "plt.ylim([0,500000])\n",
    "plt.yticks(np.arange(0, 500000+1, 50000))\n",
    "\n",
    "#cur_axes.axes.get_xaxis().set_ticklabels([])\n",
    "cur_axes.axes.get_yaxis().set_ticklabels([])\n",
    "\n",
    "plt.show()\n",
    "\n",
    "                                          \n",
    "\n",
    "\n",
    "\n",
    "\n",
    "\n",
    "\n"
   ]
  },
  {
   "cell_type": "code",
   "execution_count": null,
   "metadata": {
    "collapsed": true
   },
   "outputs": [],
   "source": []
  },
  {
   "cell_type": "code",
   "execution_count": null,
   "metadata": {
    "collapsed": true
   },
   "outputs": [],
   "source": []
  }
 ],
 "metadata": {
  "kernelspec": {
   "display_name": "Python [Root]",
   "language": "python",
   "name": "Python [Root]"
  },
  "language_info": {
   "codemirror_mode": {
    "name": "ipython",
    "version": 2
   },
   "file_extension": ".py",
   "mimetype": "text/x-python",
   "name": "python",
   "nbconvert_exporter": "python",
   "pygments_lexer": "ipython2",
   "version": "2.7.12"
  }
 },
 "nbformat": 4,
 "nbformat_minor": 0
}
